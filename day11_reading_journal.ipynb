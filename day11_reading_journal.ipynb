{
 "cells": [
  {
   "cell_type": "markdown",
   "metadata": {},
   "source": [
    "# Day 11 Reading Journal\n",
    "\n",
    "This journal includes several required exercises, but it is meant to encourage active reading more generally.  You should use the journal to take detailed notes, catalog questions, and explore the content from Think Python deeply.\n",
    "\n",
    "Reading: Review Think Python Chapters 15-17\n",
    "\n",
    "**Due: Monday, February 29 at 12 noon**\n",
    "\n"
   ]
  },
  {
   "cell_type": "markdown",
   "metadata": {},
   "source": [
    "## [Chapter 15](http://www.greenteapress.com/thinkpython/html/thinkpython016.html), [Chapter 16](http://www.greenteapress.com/thinkpython/html/thinkpython017.html), [Chapter 17](http://www.greenteapress.com/thinkpython/html/thinkpython018.html)\n",
    "\n",
    "\n",
    "By the end of chapter 17, we have all the tools we need to create our own user-defined types known as classes. In this reading journal, we're asking you to review and solidify your understanding of this material so we can build on it for the rest of the course. \n",
    "\n",
    "If you didn't get a chance to fully complete the Day 10 reading journal, you may want to do so now."
   ]
  },
  {
   "cell_type": "markdown",
   "metadata": {
    "problem": "Terminology"
   },
   "source": [
    "### Terminology\n",
    "\n",
    "You should be familiar with the following list of terms and concepts. If any of them are unclear to you, re-read, ask, write a definition in your own words, and try an example if appropriate.\n",
    "\n",
    " - class\n",
    " - object\n",
    " - instance\n",
    " - attribute\n",
    " - method\n",
    " - shallow vs deep copying\n",
    " - pure functions vs modifiers\n",
    " - initializing object instances\n",
    " "
   ]
  },
  {
   "cell_type": "markdown",
   "metadata": {
    "is_question": true,
    "problem": "Exercise 1"
   },
   "source": [
    "### Exercise\n",
    "\n",
    "We're going to take the first steps toward writing a calendar application. To keep things simple, we'll restrict ourselves to a single day for now. Write an `Event` class with the following attributes:\n",
    "\n",
    " - `name`  : Title for the `Event`\n",
    " - `start` : `Time` object representing the start time for the `Event`\n",
    " - `end`   : `Time` object representing the end time for the `Event`\n",
    "\n",
    "You can also augment your `Event` class with additional attributes, such as location and attendees.\n",
    "\n",
    "Write `__init__` and `__str__` methods for your `Event` class."
   ]
  },
  {
   "cell_type": "code",
   "execution_count": 28,
   "metadata": {
    "collapsed": false,
    "solution": "Exercise 1"
   },
   "outputs": [
    {
     "name": "stdout",
     "output_type": "stream",
     "text": [
      "Birthday Party, 11:30:00, 01:30:00\n"
     ]
    }
   ],
   "source": [
    "class Time(object):\n",
    "    \"\"\"Represents time\"\"\"\n",
    "    def __init__(self, hour=0, minute=0, second=0):\n",
    "        self.hour = hour\n",
    "        self.minute = minute\n",
    "        self.second = second\n",
    "    def __str__(self):\n",
    "        return '%.2d:%.2d:%.2d' % (self.hour, self.minute, self.second)\n",
    "\n",
    "class Event():\n",
    "    \"\"\"Calendar application\"\"\"\n",
    "    def __init__(self, name, start, end):\n",
    "        self.name = name\n",
    "        self.start = start\n",
    "        self.end = end\n",
    "    def __str__(self):\n",
    "        return '%s, %s, %s' % (self.name, self.start, self.end)\n",
    "\n",
    "cal1 = Event('Birthday Party', Time(11,30), Time(1,30))\n",
    "print cal1"
   ]
  },
  {
   "cell_type": "markdown",
   "metadata": {
    "is_question": true,
    "problem": "Exercise 2"
   },
   "source": [
    "### Exercise\n",
    "\n",
    "Write a `duration` method that returns the duration of the `Event` in minutes."
   ]
  },
  {
   "cell_type": "code",
   "execution_count": 37,
   "metadata": {
    "collapsed": false,
    "solution": "Exercise 2"
   },
   "outputs": [
    {
     "data": {
      "text/plain": [
       "'Duration: 360.0 minutes'"
      ]
     },
     "execution_count": 37,
     "metadata": {},
     "output_type": "execute_result"
    }
   ],
   "source": [
    "# time in standard formatting, not in military mode (ie: am/pm)\n",
    "\n",
    "class Time(object):\n",
    "    \"\"\"Represents time\"\"\"\n",
    "    def __init__(self, hour=0, minute=0, second=0):\n",
    "        self.hour = hour\n",
    "        self.minute = minute\n",
    "        self.second = second\n",
    "    def __str__(self):\n",
    "        return '%.2d:%.2d:%.2d' % (self.hour, self.minute, self.second)\n",
    "\n",
    "class Event():\n",
    "    \"\"\"Calendar application\"\"\"\n",
    "    def __init__(self, name, start, end):\n",
    "        self.name = name\n",
    "        self.start = start\n",
    "        self.end = end\n",
    "    def __str__(self):\n",
    "        return '%s, %s, %s' % (self.name, self.start, self.end)\n",
    "    def duration(self):   \n",
    "        if self.end.hour > self.start.hour:\n",
    "            end_second = self.end.hour * 3600 + self.end.minute * 60 + self.end.second\n",
    "            start_second = self.start.hour * 3600 + self.start.minute * 60 + self.start.second\n",
    " \n",
    "        else:\n",
    "            end_second = (12 + self.end.hour) * 3600 + self.end.minute * 60 + self.end.second\n",
    "            start_second = self.start.hour * 3600 + self.start.minute * 60 + self.start.second\n",
    "            \n",
    "        time_total = float((end_second - start_second) / 60)\n",
    "        return 'Duration: %s minutes' % (time_total)\n",
    "        \n",
    "\n",
    "cal1 = Event('Birthday Party', Time(10,30), Time(4,30))\n",
    "cal1.duration()"
   ]
  },
  {
   "cell_type": "markdown",
   "metadata": {
    "is_question": true,
    "problem": "Exercise 3"
   },
   "source": [
    "### Exercise\n",
    "\n",
    "Write an `Agenda` class that contains several `Event`s for the day.\n",
    "\n",
    "**Quick check: ** How should you store `Event`s within your `Agenda` class?\n",
    "\n",
    "Your `Agenda` class should include a `print_agenda` method that prints out your schedule for the day, in order.\n",
    "\n",
    "**Optional:** Include a `is_feasible` method that returns `True` if your schedule has no time conflicts. You may want to write additional helper methods for the `Event` class to make this easier."
   ]
  },
  {
   "cell_type": "code",
   "execution_count": 59,
   "metadata": {
    "collapsed": false,
    "solution": "Exercise 3"
   },
   "outputs": [
    {
     "name": "stdout",
     "output_type": "stream",
     "text": [
      "['Birthday Party', 'BBQ', 'Swimming Lesson']\n"
     ]
    }
   ],
   "source": [
    "# time in military mode (out of 24 hours)\n",
    "\n",
    "class Time(object):\n",
    "    \"\"\"Represents time\"\"\"\n",
    "    def __init__(self, hour=0, minute=0, second=0):\n",
    "        self.hour = hour\n",
    "        self.minute = minute\n",
    "        self.second = second\n",
    "    def __str__(self):\n",
    "        return '%.2d:%.2d:%.2d' % (self.hour, self.minute, self.second)\n",
    "\n",
    "class Event():\n",
    "    \"\"\"Calendar application\"\"\"\n",
    "    def __init__(self, name, start, end):\n",
    "        self.name = name\n",
    "        self.start = start\n",
    "        self.end = end\n",
    "    def __str__(self):\n",
    "        return '%s, %s, %s' % (self.name, self.start, self.end)\n",
    "    def duration(self):   \n",
    "        if self.end.hour > self.start.hour:\n",
    "            end_second = self.end.hour * 3600 + self.end.minute * 60 + self.end.second\n",
    "            start_second = self.start.hour * 3600 + self.start.minute * 60 + self.start.second\n",
    " \n",
    "        else:\n",
    "            end_second = (12 + self.end.hour) * 3600 + self.end.minute * 60 + self.end.second\n",
    "            start_second = self.start.hour * 3600 + self.start.minute * 60 + self.start.second\n",
    "            \n",
    "        time_total = float((end_second - start_second) / 60)\n",
    "        return 'Duration: %s minutes' % (time_total)\n",
    "    def int_to_time(self, seconds):\n",
    "        time = Time()\n",
    "        time.minute, time.second = divmod(seconds, 60)\n",
    "        time.hour, time.minute = divmod(minutes, 60)\n",
    "        return time\n",
    "    \n",
    "class Agenda(object):\n",
    "    \"\"\"Store multiple events within Agenda class\"\"\"\n",
    "    def __init__(self, contents=None):\n",
    "        if contents == None:\n",
    "            contents = []\n",
    "        self.contents = contents\n",
    "    def __str__(self):\n",
    "        t = []\n",
    "        for obj in self.contents:\n",
    "            s = '    ' + object.__str__(obj)\n",
    "            t.append(s)\n",
    "        return '\\n'.join(t)\n",
    "    def time_to_int(self, time):\n",
    "        minutes = time.hour * 60 + time.minute\n",
    "        seconds = minutes * 60 + time.second\n",
    "        return seconds\n",
    "    def print_agenda(self):\n",
    "        \"\"\"add a new event to the agenda in chronological order and prints agenda\"\"\"\n",
    "        agenda = []\n",
    "        for i in range(len(self.contents)):\n",
    "            minPos = i\n",
    "            for j in range(i, len(self.contents)):\n",
    "                if(self.time_to_int(self.contents[j].start) < self.time_to_int(self.contents[minPos].start)):\n",
    "                    minPos = j\n",
    "            temp = self.contents[minPos]\n",
    "            self.contents[minPos] = self.contents[i]\n",
    "            self.contents[i] = temp\n",
    "    \n",
    "        for i in range(len(self.contents)):\n",
    "            agenda.append(self.contents[i].name)\n",
    "        print agenda\n",
    "\n",
    "\n",
    "cal1 = Event('Birthday Party', Time(10,30), Time(13,30))\n",
    "cal2 = Event('BBQ', Time(12), Time(14))\n",
    "cal3 = Event('Swimming Lesson', Time(18), Time(20))\n",
    "agenda = Agenda([cal1, cal2, cal3])\n",
    "agenda.print_agenda()"
   ]
  },
  {
   "cell_type": "markdown",
   "metadata": {
    "is_question": true,
    "problem": "Exercise 4"
   },
   "source": [
    "### Going Beyond (optional)\n",
    "\n",
    "Some ideas for taking your application further:\n",
    " - Add people and/or places to the mix to create a scheduling assistant\n",
    " - Extend support for day-of-week or full date. A word of warning: dealing with dates and times in real applications is difficult due to the huge number of special cases (Perfect example: this reading journal is due on Leap Day). Consider using something like the Python [datetime](https://docs.python.org/2/library/datetime.html) module.\n",
    " - Use pickle or some other persistence strategy to save and load your `Agenda`."
   ]
  },
  {
   "cell_type": "code",
   "execution_count": null,
   "metadata": {
    "collapsed": true,
    "solution": "Exercise 4"
   },
   "outputs": [],
   "source": []
  },
  {
   "cell_type": "markdown",
   "metadata": {
    "is_poll": true,
    "is_question": true,
    "problem": "Time spent"
   },
   "source": [
    "## Quick poll\n",
    "About how long did you spend working on this Reading Journal?\n",
    "  * 2 hr"
   ]
  },
  {
   "cell_type": "markdown",
   "metadata": {
    "poll_response": true,
    "solution": "Time spent"
   },
   "source": [
    " "
   ]
  },
  {
   "cell_type": "markdown",
   "metadata": {
    "is_question": true,
    "problem": "Feedback"
   },
   "source": [
    "## Reading Journal feedback\n",
    "\n",
    "Have any comments on this Reading Journal? Feel free to leave them below and we'll read them when you submit your journal entry. This could include suggestions to improve the exercises, topics you'd like to see covered in class next time, or other feedback.\n",
    "\n",
    "If you have Python questions or run into problems while completing the reading, you should post them to Piazza instead so you can get a quick response before your journal is submitted."
   ]
  },
  {
   "cell_type": "markdown",
   "metadata": {
    "feedback_response": true,
    "solution": "Feedback"
   },
   "source": [
    " "
   ]
  }
 ],
 "metadata": {
  "celltoolbar": "Edit Metadata",
  "kernelspec": {
   "display_name": "Python 2",
   "language": "python",
   "name": "python2"
  },
  "language_info": {
   "codemirror_mode": {
    "name": "ipython",
    "version": 2
   },
   "file_extension": ".py",
   "mimetype": "text/x-python",
   "name": "python",
   "nbconvert_exporter": "python",
   "pygments_lexer": "ipython2",
   "version": "2.7.6"
  }
 },
 "nbformat": 4,
 "nbformat_minor": 0
}
