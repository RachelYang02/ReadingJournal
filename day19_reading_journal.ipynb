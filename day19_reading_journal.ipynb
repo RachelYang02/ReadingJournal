{
 "cells": [
  {
   "cell_type": "markdown",
   "metadata": {},
   "source": [
    "# Day 19 Reading Journal\n",
    "\n",
    "This journal includes several required exercises, but it is meant to encourage active reading more generally.  You should use the journal to take detailed notes, catalog questions, and explore the content from Think Python deeply.\n",
    "\n",
    "Reading: Think Python **2** Chapter 19\n",
    "\n",
    "**Due: Thursday, April 7 at 12 noon**\n"
   ]
  },
  {
   "cell_type": "markdown",
   "metadata": {},
   "source": [
    "## [Chapter 19](http://greenteapress.com/thinkpython2/html/thinkpython2020.html)\n",
    "\n",
    "This reading is \"the goodies\" - all the cool Python features that aren't strictly necessary but can make your code more concise, readable, and/or efficient.\n",
    "\n",
    "**Note:** This chapter is taken from the Think Python second edition, which is written for Python 3. There are [several differences](https://blog.appdynamics.com/devops/the-key-differences-between-python-2-and-python-3/) between Python 2 and 3, but the main one that comes up in this chapter is that '''print''' is a normal function (with parentheses) in Python 3 instead of a special statement. The rest of the concepts you read about in this chapter are also available in Python 2.7.\n",
    "\n",
    "You can read any of the sections you like, but we particularly recommend sections 2, 5, 9."
   ]
  },
  {
   "cell_type": "markdown",
   "metadata": {},
   "source": [
    "## [Section 2 -- List Comprehensions]\n"
   ]
  },
  {
   "cell_type": "code",
   "execution_count": 1,
   "metadata": {
    "collapsed": false
   },
   "outputs": [
    {
     "data": {
      "text/plain": [
       "'bracket operators indicate construction of new list. Expression \\nin brackets = elements of list. For clause indicates what sequence \\nwe are traversing'"
      ]
     },
     "execution_count": 1,
     "metadata": {},
     "output_type": "execute_result"
    }
   ],
   "source": [
    "\"\"\"example of code and more concise code using LC\"\"\"\n",
    "def capitalize_all(t):\n",
    "    res = []\n",
    "    for s in t:\n",
    "        res.append(s.capitalize())\n",
    "    return res\n",
    "\n",
    "def capitalize_all(t):\n",
    "    return [s.capitalize() for s in t]\n",
    "\n",
    "\"\"\"bracket operators indicate construction of new list. Expression \n",
    "in brackets = elements of list. For clause indicates what sequence \n",
    "we are traversing\"\"\""
   ]
  },
  {
   "cell_type": "code",
   "execution_count": 3,
   "metadata": {
    "collapsed": false
   },
   "outputs": [
    {
     "data": {
      "text/plain": [
       "'LC is more concise, easy to read, and FASTER (but harder to debug)'"
      ]
     },
     "execution_count": 3,
     "metadata": {},
     "output_type": "execute_result"
    }
   ],
   "source": [
    "\"\"\"LC can also be used for filtering\"\"\"\n",
    "\n",
    "def only_upper(t):\n",
    "    res = []\n",
    "    for s in t:\n",
    "        if s.isupper():\n",
    "            res.append(s)\n",
    "    return res\n",
    "\n",
    "\"\"\"is more concise using LC\"\"\"\n",
    "def only_upper(t):\n",
    "    return [s for s in t if s.isupper()]\n",
    "\n",
    "\"\"\"LC is more concise, easy to read, and FASTER (but harder to debug)\"\"\""
   ]
  },
  {
   "cell_type": "markdown",
   "metadata": {},
   "source": [
    "## [Section 3 -- Generator Expressions]\n"
   ]
  },
  {
   "cell_type": "code",
   "execution_count": 5,
   "metadata": {
    "collapsed": false
   },
   "outputs": [
    {
     "data": {
      "text/plain": [
       "<generator object <genexpr> at 0x7fba205fc460>"
      ]
     },
     "execution_count": 5,
     "metadata": {},
     "output_type": "execute_result"
    }
   ],
   "source": [
    "\"\"\"GE ~ LC, but use parentheses instead of brackets\"\"\"\n",
    "\n",
    "g = (x**2 for x in range(5))\n",
    "g"
   ]
  },
  {
   "cell_type": "markdown",
   "metadata": {},
   "source": [
    "**DIFFERENCE BETWEEN GE AND LC**\n",
    "  * GE doesn't compute values all at once\n",
    "    * waits to be asked\n",
    "    * when gets to end of sequence, raises StopIteration exception\n",
    "  * GE often used with sum, max, min"
   ]
  },
  {
   "cell_type": "code",
   "execution_count": 6,
   "metadata": {
    "collapsed": false
   },
   "outputs": [
    {
     "data": {
      "text/plain": [
       "30"
      ]
     },
     "execution_count": 6,
     "metadata": {},
     "output_type": "execute_result"
    }
   ],
   "source": [
    "\"\"\"example of GE with sum\"\"\"\n",
    "sum(x**2 for x in range(5))"
   ]
  },
  {
   "cell_type": "markdown",
   "metadata": {},
   "source": [
    "## [Section 5 -- Sets]\n"
   ]
  },
  {
   "cell_type": "markdown",
   "metadata": {},
   "source": [
    "**set** = collection of dictionary keys with no values\n",
    "  * adding elements to set = FAST\n",
    "  * checking membership = FAST\n",
    "  * sets provide methods/operators for common set operations"
   ]
  },
  {
   "cell_type": "code",
   "execution_count": 8,
   "metadata": {
    "collapsed": false
   },
   "outputs": [
    {
     "data": {
      "text/plain": [
       "' keep in mind that result = set, not dictionary | \\nbut for certain operations, behavior is the same.'"
      ]
     },
     "execution_count": 8,
     "metadata": {},
     "output_type": "execute_result"
    }
   ],
   "source": [
    "\"\"\"example of set subtraction\"\"\"\n",
    "def subtract(d1,d2):\n",
    "    res = dict()\n",
    "    for key in d1:\n",
    "        if key not in d2:\n",
    "            res[key] = None\n",
    "    return res\n",
    "\n",
    "def subtract(d1,d2):\n",
    "    return set(d1) - set(d2)   \n",
    "\"\"\" keep in mind that result = set, not dictionary | \n",
    "but for certain operations, behavior is the same.\"\"\""
   ]
  },
  {
   "cell_type": "code",
   "execution_count": 11,
   "metadata": {
    "collapsed": false
   },
   "outputs": [
    {
     "data": {
      "text/plain": [
       "'element can only appear in set ONCE so if element in t appears \\nmore than once, set will be smaller than t. If no duplicates, set size\\n= t size.'"
      ]
     },
     "execution_count": 11,
     "metadata": {},
     "output_type": "execute_result"
    }
   ],
   "source": [
    "\"\"\"example of more concise code for whether there exists duplicates\"\"\"\n",
    "def has_duplicates(t):\n",
    "    d = {}\n",
    "    for x in t:\n",
    "        if x in d:\n",
    "            return True\n",
    "        d[x] = True\n",
    "    return False\n",
    "\n",
    "def has_duplicates(t):\n",
    "    return len(set(t)) < len(t)\n",
    "\n",
    "\"\"\"element can only appear in set ONCE so if element in t appears \n",
    "more than once, set will be smaller than t. If no duplicates, set size\n",
    "= t size.\"\"\""
   ]
  },
  {
   "cell_type": "code",
   "execution_count": 12,
   "metadata": {
    "collapsed": true
   },
   "outputs": [],
   "source": [
    "\"\"\"example of more concise code for whether all letters in word\n",
    "are in available\"\"\"\n",
    "def uses_only(word, available):\n",
    "    for letter in word:\n",
    "        if letter not in available:\n",
    "            return False\n",
    "    return True\n",
    "\n",
    "def uses_only(word, available):\n",
    "    return set(word) <= set(available)"
   ]
  },
  {
   "cell_type": "markdown",
   "metadata": {},
   "source": [
    "## [Section 9 -- Gathering Keyword Args]\n"
   ]
  },
  {
   "cell_type": "code",
   "execution_count": 21,
   "metadata": {
    "collapsed": false
   },
   "outputs": [
    {
     "name": "stdout",
     "output_type": "stream",
     "text": [
      "((1, 2.0), {'third': '3'})\n"
     ]
    },
    {
     "ename": "NameError",
     "evalue": "name 'Point' is not defined",
     "output_type": "error",
     "traceback": [
      "\u001b[1;31m---------------------------------------------------------------------------\u001b[0m",
      "\u001b[1;31mNameError\u001b[0m                                 Traceback (most recent call last)",
      "\u001b[1;32m<ipython-input-21-e059bf7a6327>\u001b[0m in \u001b[0;36m<module>\u001b[1;34m()\u001b[0m\n\u001b[0;32m     24\u001b[0m positional argument with nothing to assign to y\"\"\"\n\u001b[0;32m     25\u001b[0m \u001b[0md\u001b[0m \u001b[1;33m=\u001b[0m \u001b[0mdict\u001b[0m\u001b[1;33m(\u001b[0m\u001b[0mx\u001b[0m\u001b[1;33m=\u001b[0m\u001b[1;36m1\u001b[0m\u001b[1;33m,\u001b[0m\u001b[0my\u001b[0m\u001b[1;33m=\u001b[0m\u001b[1;36m2\u001b[0m\u001b[1;33m)\u001b[0m\u001b[1;33m\u001b[0m\u001b[0m\n\u001b[1;32m---> 26\u001b[1;33m \u001b[0mPoint\u001b[0m\u001b[1;33m(\u001b[0m\u001b[1;33m**\u001b[0m\u001b[0md\u001b[0m\u001b[1;33m)\u001b[0m\u001b[1;33m\u001b[0m\u001b[0m\n\u001b[0m\u001b[0;32m     27\u001b[0m \u001b[0mPoint\u001b[0m\u001b[1;33m(\u001b[0m\u001b[0mx\u001b[0m\u001b[1;33m=\u001b[0m\u001b[1;36m1\u001b[0m\u001b[1;33m,\u001b[0m\u001b[0my\u001b[0m\u001b[1;33m=\u001b[0m\u001b[1;36m2\u001b[0m\u001b[1;33m)\u001b[0m\u001b[1;33m\u001b[0m\u001b[0m\n\u001b[0;32m     28\u001b[0m \u001b[1;33m\u001b[0m\u001b[0m\n",
      "\u001b[1;31mNameError\u001b[0m: name 'Point' is not defined"
     ]
    }
   ],
   "source": [
    "def printall(*args):\n",
    "    \"\"\" gathers arguments into tuple, can call function\n",
    "    with any number of positional arguments\"\"\"\n",
    "    print(args)\n",
    "\n",
    "\"\"\" but * operator doesn't gather keyword arguments\n",
    "    result = TypeError: unexpected keyword argument 'third'\"\"\"\n",
    "# printall(1,2.0,third='3')\n",
    "\n",
    "\n",
    "\n",
    "\"\"\"to gather keyword arguments, use ** operator\"\"\"\n",
    "def printall(*args, **kwargs):\n",
    "    print(args,kwargs)\n",
    "    \n",
    "printall(1,2.0,third='3')\n",
    "\n",
    "\n",
    "\n",
    "\"\"\"if have dict of keywords and values, use scatter operator ** to \n",
    "call function\"\"\"\n",
    "\n",
    "\"\"\"without scatter operator, function would treat d as single \n",
    "positional argument with nothing to assign to y\"\"\"\n",
    "d = dict(x=1,y=2)\n",
    "Point(**d)\n",
    "Point(x=1,y=2)\n",
    "\n",
    "\n",
    "    "
   ]
  },
  {
   "cell_type": "markdown",
   "metadata": {
    "is_question": true,
    "problem": "Exercise 19.1"
   },
   "source": [
    "### Exercise 1  \n",
    "\n",
    "Rewrite the following functions using list comprehensions."
   ]
  },
  {
   "cell_type": "code",
   "execution_count": 15,
   "metadata": {
    "collapsed": false,
    "solution": "Exercise 19.1"
   },
   "outputs": [
    {
     "data": {
      "text/plain": [
       "TestResults(failed=0, attempted=5)"
      ]
     },
     "execution_count": 15,
     "metadata": {},
     "output_type": "execute_result"
    }
   ],
   "source": [
    "def square(seq):\n",
    "    \"\"\"\n",
    "    Return a new list containing all the elements of 'seq'uence squared.\n",
    "    \n",
    "    >>> square([1, 2, 3])\n",
    "    [1, 4, 9]\n",
    "    >>> square([0, -5, 2.5])\n",
    "    [0, 25, 6.25]\n",
    "    >>> square([8, \"hello\", 10])\n",
    "    Traceback (most recent call last):\n",
    "      ...\n",
    "    TypeError: unsupported operand type(s) for ** or pow(): 'str' and 'int'\n",
    "    \"\"\"\n",
    "#     result = []\n",
    "#     for item in seq:\n",
    "#         squared_value = item **2\n",
    "#         result.append(squared_value)\n",
    "#     return result\n",
    "\n",
    "    return [x**2 for x in seq]\n",
    "\n",
    "\n",
    "\n",
    "def evens(seq):\n",
    "    \"\"\"\n",
    "    Return a new list containing only the elements of 'seq'uence that are even.\n",
    "    \n",
    "    >>> evens([1, 2, 3, 4])\n",
    "    [2, 4]\n",
    "    >>> evens(square(range(5)))\n",
    "    [0, 4, 16]\n",
    "    \"\"\"\n",
    "#     result = []\n",
    "#     for item in seq:\n",
    "#         if item % 2 == 0:\n",
    "#             result.append(item)\n",
    "#     return result\n",
    "    return [s for s in seq if s%2 == 0]\n",
    "\n",
    "\n",
    "import doctest\n",
    "doctest.testmod()\n",
    "        "
   ]
  },
  {
   "cell_type": "markdown",
   "metadata": {},
   "source": [
    "## [Exceptions](https://docs.python.org/2/tutorial/errors.html)\n",
    "\n",
    "Read about Exceptions in Python and how to handle them (through section 8.4).\n",
    "\n",
    "Advanced (optional): Check out [context managers](https://docs.python.org/2/reference/datamodel.html#context-managers) and the ['''with''' statement](https://www.python.org/dev/peps/pep-0343/)."
   ]
  },
  {
   "cell_type": "code",
   "execution_count": 1,
   "metadata": {
    "collapsed": false
   },
   "outputs": [
    {
     "name": "stdout",
     "output_type": "stream",
     "text": [
      "Please enter a number: s\n",
      "Oops!  That was no valid number.  Try again...\n",
      "Please enter a number: 19\n"
     ]
    }
   ],
   "source": [
    "\"\"\"example of handling selected exceptions\"\"\"\n",
    "\n",
    "while True:\n",
    "    try:\n",
    "        x = int(raw_input(\"Please enter a number: \"))\n",
    "        break\n",
    "    except ValueError:\n",
    "        print \"Oops!  That was no valid number.  Try again...\""
   ]
  },
  {
   "cell_type": "markdown",
   "metadata": {},
   "source": [
    "* try clause is executed\n",
    "* no exception occurs, skips except clause and finishes try statement\n",
    "* if exception, rest of try clause is skipped\n",
    "  * if type matches exception named after 'except' keyword, except clause is executed\n",
    "* if exception occurs that doesn't match, passed on to outer try statements\n",
    "  * no handler is found, = unhandled exception and execution stops with error message"
   ]
  },
  {
   "cell_type": "markdown",
   "metadata": {},
   "source": [
    "Try clause can have multiple except clauses to specify handlers for different exceptions\n",
    "  * can also use else clauses after except to catch unaccounted-for exceptions\n",
    "  * exception can have argument = associated value\n",
    "    * except clause can specify variable after exception name"
   ]
  },
  {
   "cell_type": "code",
   "execution_count": 2,
   "metadata": {
    "collapsed": false
   },
   "outputs": [
    {
     "ename": "NameError",
     "evalue": "HiThere",
     "output_type": "error",
     "traceback": [
      "\u001b[1;31m---------------------------------------------------------------------------\u001b[0m",
      "\u001b[1;31mNameError\u001b[0m                                 Traceback (most recent call last)",
      "\u001b[1;32m<ipython-input-2-778b34e2a098>\u001b[0m in \u001b[0;36m<module>\u001b[1;34m()\u001b[0m\n\u001b[0;32m      2\u001b[0m \u001b[1;34m\"\"\"argument to raise indicates exception to be raised.\"\"\"\u001b[0m\u001b[1;33m\u001b[0m\u001b[0m\n\u001b[0;32m      3\u001b[0m \u001b[1;33m\u001b[0m\u001b[0m\n\u001b[1;32m----> 4\u001b[1;33m \u001b[1;32mraise\u001b[0m \u001b[0mNameError\u001b[0m\u001b[1;33m(\u001b[0m\u001b[1;34m'HiThere'\u001b[0m\u001b[1;33m)\u001b[0m\u001b[1;33m\u001b[0m\u001b[0m\n\u001b[0m",
      "\u001b[1;31mNameError\u001b[0m: HiThere"
     ]
    }
   ],
   "source": [
    "\"\"\"raise statement allows forced specific exception to occur\"\"\"\n",
    "\"\"\"argument to raise indicates exception to be raised.\"\"\"\n",
    "\n",
    "raise NameError('HiThere')"
   ]
  },
  {
   "cell_type": "markdown",
   "metadata": {
    "is_question": true,
    "problem": "Exercise 19.2"
   },
   "source": [
    "### Exercise 2 \n",
    "\n",
    "Complete the following function using an exception handler. How else might you implement it?"
   ]
  },
  {
   "cell_type": "code",
   "execution_count": 25,
   "metadata": {
    "collapsed": false,
    "solution": "Exercise 19.2"
   },
   "outputs": [],
   "source": [
    "import doctest\n",
    "names = {\"Paul\": \"Ruvolo\", \"Oliver\": \"Steele\", \"Ben\": \"Hill\"}\n",
    "\n",
    "def formal_greeting(first_name, name_dict):\n",
    "    \"\"\"\n",
    "    Greet SoftDes professors by last name, and strangers with some skepticism.\n",
    "    \n",
    "    >>> formal_greeting(\"Oliver\", names)\n",
    "    Hello, Professor Steele!\n",
    "    >>> formal_greeting(\"Jasper\", names)\n",
    "    Howdy, stranger!\n",
    "    \"\"\"\n",
    "    try: \n",
    "        print \"Hello, Professor {}!\".format(name_dict[first_name])\n",
    "    except:\n",
    "        print \"Howdy, stranger!\"\n",
    "\n",
    "doctest.run_docstring_examples(formal_greeting, globals())    "
   ]
  },
  {
   "cell_type": "markdown",
   "metadata": {
    "is_poll": true,
    "is_question": true,
    "problem": "Time spent"
   },
   "source": [
    "## Quick poll\n",
    "About how long did you spend working on this Reading Journal?\n",
    "  * 1 hr (dealt with wifi issues in this time though)"
   ]
  },
  {
   "cell_type": "markdown",
   "metadata": {
    "poll_response": true,
    "solution": "Time spent"
   },
   "source": [
    " "
   ]
  },
  {
   "cell_type": "markdown",
   "metadata": {
    "is_question": true,
    "problem": "Feedback"
   },
   "source": [
    "## Reading Journal feedback\n",
    "\n",
    "Have any comments on this Reading Journal? Feel free to leave them below and we'll read them when you submit your journal entry. This could include suggestions to improve the exercises, topics you'd like to see covered in class next time, or other feedback.\n",
    "\n",
    "If you have Python questions or run into problems while completing the reading, you should post them to Piazza instead so you can get a quick response before your journal is submitted."
   ]
  },
  {
   "cell_type": "markdown",
   "metadata": {
    "feedback_response": true,
    "solution": "Feedback"
   },
   "source": [
    " "
   ]
  }
 ],
 "metadata": {
  "celltoolbar": "Edit Metadata",
  "kernelspec": {
   "display_name": "Python 2",
   "language": "python",
   "name": "python2"
  },
  "language_info": {
   "codemirror_mode": {
    "name": "ipython",
    "version": 2
   },
   "file_extension": ".py",
   "mimetype": "text/x-python",
   "name": "python",
   "nbconvert_exporter": "python",
   "pygments_lexer": "ipython2",
   "version": "2.7.6"
  }
 },
 "nbformat": 4,
 "nbformat_minor": 0
}
