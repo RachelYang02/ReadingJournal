{
 "cells": [
  {
   "cell_type": "markdown",
   "metadata": {},
   "source": [
    "# Day 1 Reading Journal\n",
    "\n",
    "Hi everyone.  These are the exercises for the first set of readings from ThinkPython.  While this journal consists of several required exercises, it is meant to encourage active reading more generally.  You should use this journal to take detailed notes, catalog questions, and explore the content from ThinkPython deeply.\n",
    "\n",
    "For more information on using the Jupyter notebook, check out the documentation [here](http://nbviewer.jupyter.org/github/jupyter/notebook/blob/master/docs/source/examples/Notebook/Examples%20and%20Tutorials%20Index.ipynb).  Additionally, in order to write text in this document, you will be making use of markdown cells. A handy cheatsheet for markdown is available [here](https://github.com/adam-p/markdown-here/wiki/Markdown-Cheatsheet)."
   ]
  },
  {
   "cell_type": "markdown",
   "metadata": {},
   "source": [
    "## Chapter 1: Programming\n",
    "\n",
    "Note: the exercise numbers below match up with the reading for ease of cross referencing."
   ]
  },
  {
   "cell_type": "markdown",
   "metadata": {},
   "source": [
    "**high-level languages** -- for humans\n",
    "\n",
    "    ex) C, C++, Java, Python, Perl \n",
    "\n",
    "    * portable, shorter, easier to read, processed\n",
    "\n",
    "**low-level languages** -- for computer\n",
    "\n",
    "    = \"machine language\" = \"assembly language\" "
   ]
  },
  {
   "cell_type": "markdown",
   "metadata": {},
   "source": [
    "high-level --> low-level\n",
    "* interpreters = source code --> interpreter --> output\n",
    "* compilers = source code --> compiler --> object code --> executor --> output"
   ]
  },
  {
   "cell_type": "markdown",
   "metadata": {},
   "source": [
    "python = interpreter\n",
    "1. interactive mode\n",
    "  * \">>>\" = prompt\n",
    "2. script mode\n",
    "  * stores code in a file (__.py) --> call name"
   ]
  },
  {
   "cell_type": "markdown",
   "metadata": {},
   "source": [
    "**PROGRAM** = sequence of instructions --> perform computation\n",
    "   input | output | math | conditional execution\n",
    "   \n",
    "**BUGS** = errors\n",
    "1. syntax\n",
    "2. runtime \n",
    "3. semantic"
   ]
  },
  {
   "cell_type": "markdown",
   "metadata": {},
   "source": [
    "python = formal language = tokens + structure\n",
    "*  parsing = determine structure of sentence "
   ]
  },
  {
   "cell_type": "markdown",
   "metadata": {},
   "source": [
    "### Exercise 3\n",
    "\n",
    "Type `help()` to start the online help utility. Or you can type help('print') to get information about the print statement.  You should type `q` and then hit `enter` in the text box to exit the help utility. \n",
    "\n",
    "Note: this exercise is pretty simple (and there's not much to put in the box)!  We just want to make sure that you have tried out this super-handy feature of Python!"
   ]
  },
  {
   "cell_type": "code",
   "execution_count": 1,
   "metadata": {
    "collapsed": false
   },
   "outputs": [
    {
     "name": "stdout",
     "output_type": "stream",
     "text": [
      "The ``print`` statement\n",
      "***********************\n",
      "\n",
      "   print_stmt ::= \"print\" ([expression (\",\" expression)* [\",\"]]\n",
      "                  | \">>\" expression [(\",\" expression)+ [\",\"]])\n",
      "\n",
      "``print`` evaluates each expression in turn and writes the resulting\n",
      "object to standard output (see below).  If an object is not a string,\n",
      "it is first converted to a string using the rules for string\n",
      "conversions.  The (resulting or original) string is then written.  A\n",
      "space is written before each object is (converted and) written, unless\n",
      "the output system believes it is positioned at the beginning of a\n",
      "line.  This is the case (1) when no characters have yet been written\n",
      "to standard output, (2) when the last character written to standard\n",
      "output is a whitespace character except ``' '``, or (3) when the last\n",
      "write operation on standard output was not a ``print`` statement. (In\n",
      "some cases it may be functional to write an empty string to standard\n",
      "output for this reason.)\n",
      "\n",
      "Note: Objects which act like file objects but which are not the built-in\n",
      "  file objects often do not properly emulate this aspect of the file\n",
      "  object's behavior, so it is best not to rely on this.\n",
      "\n",
      "A ``'\\n'`` character is written at the end, unless the ``print``\n",
      "statement ends with a comma.  This is the only action if the statement\n",
      "contains just the keyword ``print``.\n",
      "\n",
      "Standard output is defined as the file object named ``stdout`` in the\n",
      "built-in module ``sys``.  If no such object exists, or if it does not\n",
      "have a ``write()`` method, a ``RuntimeError`` exception is raised.\n",
      "\n",
      "``print`` also has an extended form, defined by the second portion of\n",
      "the syntax described above. This form is sometimes referred to as\n",
      "\"``print`` chevron.\" In this form, the first expression after the\n",
      "``>>`` must evaluate to a \"file-like\" object, specifically an object\n",
      "that has a ``write()`` method as described above.  With this extended\n",
      "form, the subsequent expressions are printed to this file object.  If\n",
      "the first expression evaluates to ``None``, then ``sys.stdout`` is\n",
      "used as the file for output.\n",
      "\n"
     ]
    }
   ],
   "source": [
    "help('print')"
   ]
  },
  {
   "cell_type": "markdown",
   "metadata": {},
   "source": [
    "### Exercise 4  \n",
    "\n",
    "Start the Python interpreter and use it as a calculator. Python’s syntax for math operations is almost the same as standard mathematical notation. For example, the symbols +, - and / denote addition, subtraction and division, as you would expect. The symbol for multiplication is *.\n",
    "\n",
    "If you run a 10 kilometer race in 43 minutes 30 seconds, what is your average time per mile? What is your average speed in miles per hour? (Hint: there are 1.61 kilometers in a mile). "
   ]
  },
  {
   "cell_type": "code",
   "execution_count": 7,
   "metadata": {
    "collapsed": false
   },
   "outputs": [
    {
     "data": {
      "text/plain": [
       "0.11672500000000001"
      ]
     },
     "execution_count": 7,
     "metadata": {},
     "output_type": "execute_result"
    }
   ],
   "source": [
    "((43 * 60 + 30) / (10 / 1.61)) / 3600"
   ]
  },
  {
   "cell_type": "markdown",
   "metadata": {},
   "source": [
    "0.117 hr per mile"
   ]
  },
  {
   "cell_type": "code",
   "execution_count": 7,
   "metadata": {
    "collapsed": false
   },
   "outputs": [
    {
     "data": {
      "text/plain": [
       "8.567144998929106"
      ]
     },
     "execution_count": 7,
     "metadata": {},
     "output_type": "execute_result"
    }
   ],
   "source": [
    "(10 * 3600) / ((43 * 60 + 30) * 1.61)"
   ]
  },
  {
   "cell_type": "markdown",
   "metadata": {},
   "source": [
    "8.57 mph"
   ]
  },
  {
   "cell_type": "markdown",
   "metadata": {},
   "source": [
    "REVISION: write more code structure than calculations"
   ]
  },
  {
   "cell_type": "code",
   "execution_count": 4,
   "metadata": {
    "collapsed": false
   },
   "outputs": [
    {
     "name": "stdout",
     "output_type": "stream",
     "text": [
      "0.116725\n",
      "8.56714499893\n"
     ]
    }
   ],
   "source": [
    "def python_calc():\n",
    "    time_sec = 43.0 * 60.0 + 30.0\n",
    "    time_hr = time_sec / 3600.0\n",
    "    distance_mi = 10.0 / 1.61\n",
    "    \n",
    "    avg_time_per_mi = time_hr / distance_mi\n",
    "    avg_speed_mph = distance_mi / time_hr\n",
    "    print avg_time_per_mi #hours per mile\n",
    "    print avg_speed_mph   #miles per hour\n",
    "python_calc()"
   ]
  },
  {
   "cell_type": "markdown",
   "metadata": {},
   "source": [
    "## Chapter 2: Variables, Expression, Statements"
   ]
  },
  {
   "cell_type": "markdown",
   "metadata": {},
   "source": [
    "**values** belong to different **types**\n",
    "* integer (ex: 2)\n",
    "* string (ex: \"Hi\")\n",
    "* float/floating point (ex: 3.2)"
   ]
  },
  {
   "cell_type": "markdown",
   "metadata": {},
   "source": [
    "how to identify what type a value has:\n",
    "\n",
    "| input           | output       |\n",
    "| --------------- |:------------:|\n",
    "| type('example') | type 'str'   |"
   ]
  },
  {
   "cell_type": "code",
   "execution_count": 8,
   "metadata": {
    "collapsed": false
   },
   "outputs": [
    {
     "data": {
      "text/plain": [
       "str"
      ]
     },
     "execution_count": 8,
     "metadata": {},
     "output_type": "execute_result"
    }
   ],
   "source": [
    "type('example')"
   ]
  },
  {
   "cell_type": "markdown",
   "metadata": {},
   "source": [
    "**assignment statement** creates new variables and assigns them values\n",
    "* variable name must start with lowercase letter\n",
    "  * no illegal characters\n",
    "  * can't be a keyword\n",
    "  \n",
    "  Python 2 keywords: and, del, from, not, as, elif, global, or, while, assert, else, if, pass, with, break, except, import, print, yield, class, exec, in, raise, continue, finally, is, return, def, for, lamba, try"
   ]
  },
  {
   "cell_type": "markdown",
   "metadata": {},
   "source": [
    "**OPERATORS** = + | - | * | / | **\n",
    "   operands = values operator is applied to\n",
    "   floor division -- int/int = int \n",
    "    * chops off decimal\n",
    "    * at least 1 integer must be float for the answer to be a float\n",
    "   order of operations = PEMDAS\n",
    "    * only can use (+) or (*) with strings\n",
    "    * (+) = concatenation (see below)"
   ]
  },
  {
   "cell_type": "code",
   "execution_count": 9,
   "metadata": {
    "collapsed": false
   },
   "outputs": [
    {
     "data": {
      "text/plain": [
       "'IS'"
      ]
     },
     "execution_count": 9,
     "metadata": {},
     "output_type": "execute_result"
    }
   ],
   "source": [
    "'I' + 'S'"
   ]
  },
  {
   "cell_type": "markdown",
   "metadata": {},
   "source": [
    "    * (*) = repetition"
   ]
  },
  {
   "cell_type": "code",
   "execution_count": 10,
   "metadata": {
    "collapsed": false
   },
   "outputs": [
    {
     "data": {
      "text/plain": [
       "'III'"
      ]
     },
     "execution_count": 10,
     "metadata": {},
     "output_type": "execute_result"
    }
   ],
   "source": [
    "'I' * 3"
   ]
  },
  {
   "cell_type": "markdown",
   "metadata": {},
   "source": [
    "### Exercise 2  \n",
    "\n",
    "Assume that we execute the following assignment statements:\n",
    "\n",
    "width = 17\n",
    "height = 12.0\n",
    "delimiter = '.'\n",
    "\n",
    "For each of the following expressions, write the value of the expression and the type (of the value of the expression).\n",
    "\n",
    "1. `width/2`\n",
    "2. `width/2.0`\n",
    "3. `height/3`\n",
    "4. `1 + 2 * 5`\n",
    "5. `delimiter * 5`\n",
    "\n",
    "Please use the following markdown cell to provide your answer."
   ]
  },
  {
   "cell_type": "markdown",
   "metadata": {},
   "source": []
  },
  {
   "cell_type": "markdown",
   "metadata": {},
   "source": [
    "1) 8 | integer\n",
    "\n",
    "2) 8.5 | float\n",
    "\n",
    "3) 4.0 | float\n",
    "\n",
    "4) 11 | integer\n",
    "\n",
    "5) '.....' | string"
   ]
  },
  {
   "cell_type": "markdown",
   "metadata": {},
   "source": [
    "### Exercise 3  \n",
    "\n",
    "Practice using the Python interpreter as a calculator.  For each of these provide Python code that computes each answer.\n",
    "\n",
    "    \n"
   ]
  },
  {
   "cell_type": "markdown",
   "metadata": {},
   "source": [
    "The volume of a sphere with radius r is 4/3 $\\pi r^3$. What is the volume of a sphere with radius 5? Hint: 392.7 is wrong!"
   ]
  },
  {
   "cell_type": "code",
   "execution_count": 14,
   "metadata": {
    "collapsed": false
   },
   "outputs": [
    {
     "name": "stdout",
     "output_type": "stream",
     "text": [
      "523.598775598\n"
     ]
    }
   ],
   "source": [
    "import math\n",
    "def vol_sphere():\n",
    "    radius = 5\n",
    "    volume = (4.0/3.0) * (math.pi) * (radius**3)\n",
    "    print volume\n",
    "vol_sphere()"
   ]
  },
  {
   "cell_type": "markdown",
   "metadata": {},
   "source": [
    "Suppose the cover price of a book is \\$24.95, but bookstores get a 40% discount. Shipping costs \\$3 for the first copy and 75 cents for each additional copy. What is the total wholesale cost for 60 copies?"
   ]
  },
  {
   "cell_type": "code",
   "execution_count": 17,
   "metadata": {
    "collapsed": false
   },
   "outputs": [
    {
     "name": "stdout",
     "output_type": "stream",
     "text": [
      "945.45\n"
     ]
    }
   ],
   "source": [
    "def bookstore():\n",
    "    cover_price = 24.95 #dollars\n",
    "    discount = 0.6\n",
    "    shipping = 0.75 #dollars\n",
    "    \n",
    "    total = 3.0 + 60 * cover_price * discount + 59 * shipping\n",
    "    print total\n",
    "bookstore()"
   ]
  },
  {
   "cell_type": "markdown",
   "metadata": {},
   "source": [
    "If I leave my house at 6:52 am and run 1 mile at an easy pace (8:15 per mile), then 3 miles at tempo (7:12 per mile) and 1 mile at easy pace again, what time do I get home for breakfast? "
   ]
  },
  {
   "cell_type": "code",
   "execution_count": 23,
   "metadata": {
    "collapsed": false
   },
   "outputs": [
    {
     "name": "stdout",
     "output_type": "stream",
     "text": [
      "7:30.1 am\n"
     ]
    }
   ],
   "source": [
    "def breakfast_time():\n",
    "    running_time = 2.0 * 8.25 + 3.0 * 7.2 #minutes\n",
    "    time = running_time - 8\n",
    "    print '7:' + str(time) + ' am'\n",
    "breakfast_time()\n",
    "    "
   ]
  },
  {
   "cell_type": "markdown",
   "metadata": {},
   "source": [
    "## Chapter 3: Functions"
   ]
  },
  {
   "cell_type": "markdown",
   "metadata": {},
   "source": [
    "function(argument)\n",
    "\n",
    "  * ex) type() | int() | float() | str()\n",
    "\n",
    "**module** = file with collection of related functions\n",
    "  * MUST IMPORT by:\n",
    "    * from module import function\n",
    "      * from math import sin\n",
    "    * module.function()\n",
    "      * \"dot notation\" \n",
    "      * math.sin()"
   ]
  },
  {
   "cell_type": "markdown",
   "metadata": {},
   "source": [
    "**function definition** = create new function"
   ]
  },
  {
   "cell_type": "code",
   "execution_count": 24,
   "metadata": {
    "collapsed": true
   },
   "outputs": [],
   "source": [
    "def function_name():  #this is the header\n",
    "    print 3           #this is the body"
   ]
  },
  {
   "cell_type": "markdown",
   "metadata": {},
   "source": [
    "**flow of execution** = top to bottom, one statement at a time\n",
    "  * must call function to execute body"
   ]
  },
  {
   "cell_type": "markdown",
   "metadata": {},
   "source": [
    "Argument is assigned to parameter = variable\n",
    "variables and parameters created inside the function are **local**\n",
    "  * local = exists only in function"
   ]
  },
  {
   "cell_type": "markdown",
   "metadata": {},
   "source": [
    "**stack diagram** shows value of each variable *and* function each variable belongs to. Example below:\n",
    "\n",
    "![alt text](https://pythonproject.files.wordpress.com/2014/02/exercise_4-1-2_stack_diagram.jpg)"
   ]
  },
  {
   "cell_type": "markdown",
   "metadata": {},
   "source": [
    "**fruitful function** yield results\n",
    "  * **void function** doesn't return values"
   ]
  },
  {
   "cell_type": "markdown",
   "metadata": {},
   "source": [
    "Can import everything in module using:"
   ]
  },
  {
   "cell_type": "code",
   "execution_count": 25,
   "metadata": {
    "collapsed": true
   },
   "outputs": [],
   "source": [
    "from math import *"
   ]
  },
  {
   "cell_type": "markdown",
   "metadata": {},
   "source": [
    "### Exercise 3\n",
    "\n",
    "Python provides a built-in function called len that returns the length of a string, so the value of len('allen') is 5.\n",
    "Write a function named right_justify that takes a string named s as a parameter and prints the string with enough leading spaces so that the last letter of the string is in column 70 of the display.\n",
    "\n",
    "```\n",
    ">>> right_justify('allen')\n",
    "                                                                 allen```"
   ]
  },
  {
   "cell_type": "code",
   "execution_count": 28,
   "metadata": {
    "collapsed": false
   },
   "outputs": [
    {
     "name": "stdout",
     "output_type": "stream",
     "text": [
      "                                                                      s\n"
     ]
    }
   ],
   "source": [
    "def right_justify(x):\n",
    "    print ' ' * 70 + x\n",
    "right_justify('s')"
   ]
  },
  {
   "cell_type": "markdown",
   "metadata": {},
   "source": [
    "### Exercise 5\n",
    "\n",
    "This exercise can be done using only the statements and other features we have learned so far.\n",
    "\n",
    "(a) Write a function that draws a grid like the following:\n",
    "```\n",
    "+ - - - - + - - - - +\n",
    "|         |         |\n",
    "|         |         |\n",
    "|         |         |\n",
    "|         |         |\n",
    "+ - - - - + - - - - +\n",
    "|         |         |\n",
    "|         |         |\n",
    "|         |         |\n",
    "|         |         |\n",
    "+ - - - - + - - - - +\n",
    "```\n",
    "**Hint:** to print more than one value on a line, you can print a comma-separated sequence:\n",
    "print '+', '-'\n",
    "If the sequence ends with a comma, Python leaves the line unfinished, so the value printed next appears on the same line.\n",
    "print '+', \n",
    "print '-'\n",
    "The output of these statements is '+ -'.\n",
    "A print statement all by itself ends the current line and goes to the next line."
   ]
  },
  {
   "cell_type": "code",
   "execution_count": 42,
   "metadata": {
    "collapsed": false
   },
   "outputs": [
    {
     "name": "stdout",
     "output_type": "stream",
     "text": [
      "+ - - - - + - - - - +\n",
      "|         |         |\n",
      "|         |         |\n",
      "|         |         |\n",
      "|         |         |\n",
      "+ - - - - + - - - - +\n",
      "|         |         |\n",
      "|         |         |\n",
      "|         |         |\n",
      "|         |         |\n",
      "+ - - - - + - - - - +\n",
      "\n"
     ]
    }
   ],
   "source": [
    "def grid():\n",
    "    def row():\n",
    "        return '+ ' + '- '*4 + '+ ' + '- '*4 + '+\\n' \n",
    "    def column():\n",
    "        return '|' + ' '*9 + '|' + ' '*9 + '|\\n'\n",
    "    print row() + column() * 4 + row() + column() * 4 + row()\n",
    "grid()\n"
   ]
  },
  {
   "cell_type": "markdown",
   "metadata": {},
   "source": [
    "(b) Write a function that draws a similar grid with four rows and four columns."
   ]
  },
  {
   "cell_type": "code",
   "execution_count": 47,
   "metadata": {
    "collapsed": false
   },
   "outputs": [
    {
     "name": "stdout",
     "output_type": "stream",
     "text": [
      "+ - - - - + - - - - + - - - - + - - - - +\n",
      "|         |         |         |         |\n",
      "|         |         |         |         |\n",
      "|         |         |         |         |\n",
      "|         |         |         |         |\n",
      "+ - - - - + - - - - + - - - - + - - - - +\n",
      "|         |         |         |         |\n",
      "|         |         |         |         |\n",
      "|         |         |         |         |\n",
      "|         |         |         |         |\n",
      "+ - - - - + - - - - + - - - - + - - - - +\n",
      "|         |         |         |         |\n",
      "|         |         |         |         |\n",
      "|         |         |         |         |\n",
      "|         |         |         |         |\n",
      "+ - - - - + - - - - + - - - - + - - - - +\n",
      "|         |         |         |         |\n",
      "|         |         |         |         |\n",
      "|         |         |         |         |\n",
      "|         |         |         |         |\n",
      "+ - - - - + - - - - + - - - - + - - - - +\n",
      "\n"
     ]
    }
   ],
   "source": [
    "def grid():\n",
    "    def row():\n",
    "        return ('+ ' + '- '*4 + '+ ' + '- '*4)*2 + '+\\n' \n",
    "    def column():\n",
    "        return ('|' + ' '*9 + '|' + ' '*9)*2 + '|\\n'\n",
    "    print (row() + column() * 4)*4 + row()\n",
    "grid()\n"
   ]
  },
  {
   "cell_type": "markdown",
   "metadata": {},
   "source": [
    "## Chapter 5.1 - 5.7: Conditionals and Recursion"
   ]
  },
  {
   "cell_type": "markdown",
   "metadata": {},
   "source": [
    "**modulus operator** gives remainder of integers"
   ]
  },
  {
   "cell_type": "code",
   "execution_count": 48,
   "metadata": {
    "collapsed": false
   },
   "outputs": [
    {
     "name": "stdout",
     "output_type": "stream",
     "text": [
      "1\n"
     ]
    }
   ],
   "source": [
    "remainder = 7%3\n",
    "print remainder"
   ]
  },
  {
   "cell_type": "markdown",
   "metadata": {},
   "source": [
    "**boolean** = True/False expression\n",
    "  * T + F != strings | their type = bool"
   ]
  },
  {
   "cell_type": "markdown",
   "metadata": {},
   "source": [
    "RELATIONAL OPERATORS"
   ]
  },
  {
   "cell_type": "markdown",
   "metadata": {},
   "source": [
    "\n",
    "|RO      |What it means            |RO        |What it means        |\n",
    "| ------ |:-----------------------:|: -------:| -------------------:|\n",
    "| x == y | equal to                | x > y    | greater than        |\n",
    "| x != y | not equal to            | x < y    | less than           |\n",
    "| x >= y | greater than/equal to   | x <= y   | less than/equal to  |"
   ]
  },
  {
   "cell_type": "markdown",
   "metadata": {},
   "source": [
    "* Logical Operators = and, or not\n",
    "\n",
    "* **Conditional statements** = if/then statements\n",
    "  * if true, function will execute\n",
    "* **Alternative execution** = if/else\n",
    "  * alternatives = **branches**\n",
    "* **chained conditionals** = if/elif/else\n",
    "* **nestetd conditionals**"
   ]
  },
  {
   "cell_type": "markdown",
   "metadata": {},
   "source": [
    "**recursive** function calls itself (this is called **recursion**\n",
    "  * infinite recursion is **_bad_**, leads to ERROR"
   ]
  },
  {
   "cell_type": "markdown",
   "metadata": {},
   "source": [
    "/n = **newline** = line break"
   ]
  },
  {
   "cell_type": "markdown",
   "metadata": {},
   "source": [
    "### Exercise 3  \n",
    "\n",
    "Fermat’s Last Theorem says that there are no positive integers a, b, and c such that $a^n + b^n = c^n$ for any values of n greater than 2.\n",
    "\n",
    "(a) Write a function named `check_fermat` that takes four parameters—a, b, c and n—and that checks to see if Fermat’s theorem holds. If n is greater than 2 and it turns out to be true that\n",
    "$a^n + b^n = c^n$ the program should print, \"Holy smokes, Fermat was wrong!\" Otherwise the program should print, \"No, that doesn’t work.\""
   ]
  },
  {
   "cell_type": "code",
   "execution_count": 52,
   "metadata": {
    "collapsed": false
   },
   "outputs": [
    {
     "name": "stdout",
     "output_type": "stream",
     "text": [
      "No, that doesn't work\n",
      "No, that doesn't work\n",
      "No, that doesn't work\n"
     ]
    }
   ],
   "source": [
    "def check_fermat(a,b,c,n):\n",
    "    if n > 2 and a**n + b**n == c**n:\n",
    "        print \"Holy schnitzel, Fermat was wrong!\"\n",
    "    else:\n",
    "        print \"No, that doesn't work\"\n",
    "check_fermat(2,2,2,5)\n",
    "check_fermat(2,3,6,1)\n",
    "check_fermat(4,3,2,10)"
   ]
  },
  {
   "cell_type": "markdown",
   "metadata": {},
   "source": [
    "(b) Write a function that prompts the user to input values for a, b, c and n, converts them to integers, and uses check_fermat to check whether they violate Fermat’s theorem."
   ]
  },
  {
   "cell_type": "code",
   "execution_count": 54,
   "metadata": {
    "collapsed": false
   },
   "outputs": [
    {
     "name": "stdout",
     "output_type": "stream",
     "text": [
      "No, that doesn't work\n",
      "No, that doesn't work\n",
      "No, that doesn't work\n"
     ]
    }
   ],
   "source": [
    "def check_fermat(a,b,c,n):\n",
    "    if n > 2 and a**n + b**n == c**n:\n",
    "        print \"Holy schnitzel, Fermat was wrong!\"\n",
    "    else:\n",
    "        print \"No, that doesn't work\"\n",
    "def integerize(a,b,c,n):\n",
    "    a = int(a)\n",
    "    b = int(b)\n",
    "    c = int(c)\n",
    "    n = int(n)\n",
    "    check_fermat(a,b,c,n)\n",
    "integerize(2,2,2,5)\n",
    "integerize(2,3,6,1)\n",
    "integerize(2.0,3.5,6,2)"
   ]
  },
  {
   "cell_type": "markdown",
   "metadata": {},
   "source": [
    "### Exercise 4  \n",
    "\n",
    "If you are given three sticks, you may or may not be able to arrange them in a triangle. For example, if one of the sticks is 12 inches long and the other two are one inch long, it is clear that you will not be able to get the short sticks to meet in the middle. For any three lengths, there is a simple test to see if it is possible to form a triangle:\n",
    "> If any of the three lengths is greater than the sum of the other two, then you cannot form a triangle. Otherwise, you can. (If the sum of two lengths equals the third, they form what is called a “degenerate” triangle.)\n",
    "\n",
    "(a) Write a function named `is_triangle` that takes three integers as arguments, and that prints either \"Yes\" or \"No,\" depending on whether you can or cannot form a triangle from sticks with the given lengths."
   ]
  },
  {
   "cell_type": "code",
   "execution_count": 55,
   "metadata": {
    "collapsed": false
   },
   "outputs": [
    {
     "name": "stdout",
     "output_type": "stream",
     "text": [
      "Yes\n",
      "No\n"
     ]
    }
   ],
   "source": [
    "def is_triangle(a,b,c):\n",
    "    if a+b<c or a+c<b or b+c<a:\n",
    "        print \"No\"\n",
    "    else:\n",
    "        print \"Yes\"\n",
    "is_triangle(1,3,2)\n",
    "is_triangle(5,6,20)"
   ]
  },
  {
   "cell_type": "markdown",
   "metadata": {},
   "source": [
    "(b) Write a function that prompts the user to input three stick lengths, converts them to integers, and uses is_triangle to check whether sticks with the given lengths can form a triangle."
   ]
  },
  {
   "cell_type": "code",
   "execution_count": 56,
   "metadata": {
    "collapsed": false
   },
   "outputs": [
    {
     "name": "stdout",
     "output_type": "stream",
     "text": [
      "Yes\n",
      "No\n",
      "Yes\n"
     ]
    }
   ],
   "source": [
    "def is_triangle(a,b,c):\n",
    "    if a+b<c or a+c<b or b+c<a:\n",
    "        print \"No\"\n",
    "    else:\n",
    "        print \"Yes\"\n",
    "def integerize(a,b,c):\n",
    "    a = int(a)\n",
    "    b = int(b)\n",
    "    c = int(c)\n",
    "    is_triangle(a,b,c)\n",
    "integerize(1,3,2)\n",
    "integerize(5,6,20)\n",
    "integerize(1.3,3,2)"
   ]
  },
  {
   "cell_type": "markdown",
   "metadata": {},
   "source": [
    "## Notes for the Instructors\n",
    "\n",
    "Please use the space below to write comments to help us plan the next class session.  For instance, if you want to see us go over an example of a particular type of problem, you can indicate that here.\n",
    "\n",
    "Please remember that the best way to get quick feedback from the instructors as well as your peers, is to use Piazza.  However, consider using this channel if it doesn't make sense to post your note to Piazza."
   ]
  },
  {
   "cell_type": "markdown",
   "metadata": {},
   "source": []
  }
 ],
 "metadata": {
  "kernelspec": {
   "display_name": "Python 2",
   "language": "python",
   "name": "python2"
  },
  "language_info": {
   "codemirror_mode": {
    "name": "ipython",
    "version": 2
   },
   "file_extension": ".py",
   "mimetype": "text/x-python",
   "name": "python",
   "nbconvert_exporter": "python",
   "pygments_lexer": "ipython2",
   "version": "2.7.6"
  }
 },
 "nbformat": 4,
 "nbformat_minor": 0
}
