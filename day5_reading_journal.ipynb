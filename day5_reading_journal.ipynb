{
 "cells": [
  {
   "cell_type": "markdown",
   "metadata": {},
   "source": [
    "# Day 5 Reading Journal\n",
    "\n",
    "This journal includes several required exercises, but it is meant to encourage active reading more generally.  You should use the journal to take detailed notes, catalog questions, and explore the content from Think Python deeply.\n",
    "\n",
    "Reading: Think Python Chapter 4\n",
    "\n",
    "**Due: Monday, February 8 at 12 noon**\n",
    "\n"
   ]
  },
  {
   "cell_type": "markdown",
   "metadata": {},
   "source": [
    "## [Chapter 4](http://www.greenteapress.com/thinkpython/html/thinkpython005.html)\n",
    "\n",
    "In today's reading, you'll be exploring TurtleWorld!\n",
    "TurtleWorld is part of the [swampy](http://www.greenteapress.com/thinkpython/swampy/) package, written by Allen Downey.\n",
    "As part of the [Get Set](https://sites.google.com/site/sd16spring/home/assignments-and-mini-projects/setup-your-environment) assignment, you installed the swampy package using the pip Python package management tool. If you somehow missed that step or you see errors when you try to import TurtleWorld, you can install swampy by running:\n",
    "\n",
    "```\n",
    "sudo pip install swampy\n",
    "```\n",
    "\n",
    "at the command line.\n",
    "\n",
    "### Turtle wrangling\n",
    "\n",
    "You can always run your code as separate Python scripts, but here are a few tips for mixing TurtleWorld with Jupyter notebook:\n",
    "\n",
    " - TurtleWorld will appear in a new GUI window, rather than inline in the notebook like typical results do\n",
    " - You will not be able to close the TurtleWorld window unless you run `wait_for_user()` as the last line of your code.\n",
    " - Jupyter notebook works like one big Python script, even though it is broken up into sections. This means that you could create a Turtle in one cell, move it in a later cell, and then `wait_for_user()` in yet another. Despite this, it might be easier to treat each cell in this assignment as a separate script, creating a new world at the beginning and destroying it at the end of each."
   ]
  },
  {
   "cell_type": "markdown",
   "metadata": {},
   "source": [
    "**Package** = collection of modules"
   ]
  },
  {
   "cell_type": "markdown",
   "metadata": {},
   "source": [
    "For statement = **loop**"
   ]
  },
  {
   "cell_type": "markdown",
   "metadata": {},
   "source": [
    "**Encapsulation** = wrapping a piece of code up in a function"
   ]
  },
  {
   "cell_type": "markdown",
   "metadata": {},
   "source": [
    "**Generalization** = adding a parameter to a function--making it more general"
   ]
  },
  {
   "cell_type": "markdown",
   "metadata": {},
   "source": [
    "**Development plan** \n",
    "\n",
    "    1) write small program with no function definitions\n",
    "  \n",
    "    2) encapsulate it into a function and give it a name\n",
    "  \n",
    "    3) generalize by adding appropriate parameters\n",
    "  \n",
    "    4) repeat \n",
    "  \n",
    "    5) improve program by refactoring"
   ]
  },
  {
   "cell_type": "markdown",
   "metadata": {},
   "source": [
    "**Docstring** = string at beg of function that explains interface\n",
    "  * triple-quoted string"
   ]
  },
  {
   "cell_type": "markdown",
   "metadata": {},
   "source": [
    "### Get started\n",
    "\n",
    "Run the code in the cell below and make sure everything works. You should see brave Alice spring into the world and run forward. You can close the window when you're done by clicking on the 'X'. If this simple test doesn't work, check your swampy install (especially if you get an `ImportError`) and ask for help."
   ]
  },
  {
   "cell_type": "code",
   "execution_count": 1,
   "metadata": {
    "collapsed": true
   },
   "outputs": [],
   "source": [
    "from swampy.TurtleWorld import *\n",
    "\n",
    "# Create the world, and a turtle to put in it\n",
    "world = TurtleWorld()\n",
    "alice = Turtle()\n",
    "\n",
    "# Get moving, turtle!\n",
    "fd(alice, 50)\n",
    "\n",
    "# Wait for the user to close the window\n",
    "wait_for_user()"
   ]
  },
  {
   "cell_type": "markdown",
   "metadata": {
    "is_question": true,
    "problem": "Section 4.3"
   },
   "source": [
    "### Section 4.3 exercises\n",
    "Work through exercises 1-5 in Section 4.3, creating the `square`, `polygon`, `circle`, and `arc` functions. You can reference Allen's solutions, but please try the problems on your own first."
   ]
  },
  {
   "cell_type": "code",
   "execution_count": 5,
   "metadata": {
    "collapsed": false,
    "solution": "Section 4.3"
   },
   "outputs": [],
   "source": [
    "# Exercise 1\n",
    "# Use turtle to draw a square\n",
    "from swampy.TurtleWorld import *\n",
    "\n",
    "# Create the world and a turtle\n",
    "world = TurtleWorld()\n",
    "bob = Turtle()\n",
    "\n",
    "def square(t):\n",
    "    for i in range(4):\n",
    "        fd(t, 100)\n",
    "        lt(t)\n",
    "square(bob)\n",
    "\n",
    "wait_for_user()"
   ]
  },
  {
   "cell_type": "code",
   "execution_count": 10,
   "metadata": {
    "collapsed": true
   },
   "outputs": [],
   "source": [
    "# Exercise 2\n",
    "# add parameter 'length' to square \n",
    "from swampy.TurtleWorld import *\n",
    "\n",
    "# Create the world and a turtle \n",
    "world = TurtleWorld()\n",
    "bob = Turtle()\n",
    "\n",
    "def square(t,length):\n",
    "    for i in range(4):\n",
    "        fd(t,length)\n",
    "        lt(t)\n",
    "square(bob,10)\n",
    "square(bob,50)\n",
    "square(bob,500)\n",
    "\n",
    "wait_for_user()"
   ]
  },
  {
   "cell_type": "code",
   "execution_count": 13,
   "metadata": {
    "collapsed": true
   },
   "outputs": [],
   "source": [
    "# Exercise 3.1\n",
    "# add parameter 'angle' to square\n",
    "from swampy.TurtleWorld import * \n",
    "\n",
    "# Create the world and a turtle\n",
    "world = TurtleWorld()\n",
    "bob = Turtle()\n",
    "\n",
    "def square(t,length,angle):\n",
    "    for i in range(4):\n",
    "        fd(t,length)\n",
    "        lt(t,angle)\n",
    "square(bob,100,45)\n",
    "\n",
    "wait_for_user()    "
   ]
  },
  {
   "cell_type": "code",
   "execution_count": 30,
   "metadata": {
    "collapsed": false
   },
   "outputs": [],
   "source": [
    "# Exercise 3.2\n",
    "# add parameter 'n' to square, change square to polygonb\n",
    "from swampy.TurtleWorld import * \n",
    "\n",
    "# Create the world and a turtle\n",
    "world = TurtleWorld()\n",
    "bob = Turtle()\n",
    "\n",
    "def polygon(t,length,n):\n",
    "    for i in range(n):\n",
    "        fd(t,length)\n",
    "        lt(t,360/n)\n",
    "polygon(bob,100,8)\n",
    "\n",
    "wait_for_user()"
   ]
  },
  {
   "cell_type": "code",
   "execution_count": 3,
   "metadata": {
    "collapsed": true
   },
   "outputs": [],
   "source": [
    "# Exercise 4\n",
    "# Use turtle to draw a circle\n",
    "from swampy.TurtleWorld import * \n",
    "import math\n",
    "\n",
    "# Create the world and a turtle\n",
    "world = TurtleWorld()\n",
    "bob = Turtle()\n",
    "bob.delay = 0.01\n",
    "\n",
    "def polygon(t,length,n):\n",
    "    for i in range(n):\n",
    "        fd(t,length)\n",
    "        lt(t,360/n)\n",
    "\n",
    "def circle(t,r):\n",
    "    circumference = 2 * math.pi * r \n",
    "    n = int(round(circumference))\n",
    "    polygon(t,1,n)   \n",
    "\n",
    "circle(bob,10)\n",
    "\n",
    "wait_for_user()   "
   ]
  },
  {
   "cell_type": "code",
   "execution_count": 10,
   "metadata": {
    "collapsed": false
   },
   "outputs": [],
   "source": [
    "# Exercise 5\n",
    "# Make a more general version of circle and add a parameter 'angle'\n",
    "from swampy.TurtleWorld import * \n",
    "import math\n",
    "\n",
    "# Create the world and a turtle\n",
    "world = TurtleWorld()\n",
    "bob = Turtle()\n",
    "bob.delay = 0.01\n",
    "\n",
    "def polygon(t,length,n):\n",
    "    for i in range(n):\n",
    "        fd(t,length)\n",
    "        lt(t,360/n)\n",
    "\n",
    "def arc(t,r,angle):\n",
    "    circumference = 2 * math.pi * r\n",
    "    n = int(round(circumference))\n",
    "    polygon(t,1,n)\n",
    "\n",
    "arc(bob,10,180)\n",
    "wait_for_user()   "
   ]
  },
  {
   "cell_type": "markdown",
   "metadata": {
    "is_question": true,
    "problem": "More fun"
   },
   "source": [
    "### Exercise: More fun with Turtles!\n",
    "Complete at least one of Exercise 2, 3, 4, or 5. If you come up with some cool drawings you'd like to share with the rest of the class, let us know!"
   ]
  },
  {
   "cell_type": "code",
   "execution_count": 1,
   "metadata": {
    "collapsed": true,
    "solution": "More fun"
   },
   "outputs": [],
   "source": [
    "# Exercise 2\n",
    "# Draw a Venn Diagram\n",
    "from swampy.TurtleWorld import * \n",
    "import math\n",
    "\n",
    "# Create the world and a turtle\n",
    "world = TurtleWorld()\n",
    "bob = Turtle()\n",
    "bob.delay = 0.01\n",
    "\n",
    "def polygon(t,length,n):\n",
    "    for i in range(n):\n",
    "        fd(t,length)\n",
    "        lt(t,360/n)\n",
    "\n",
    "def arc(t,r,angle):\n",
    "    circumference = 2 * math.pi * r\n",
    "    n = int(round(circumference))\n",
    "    polygon(t,1,n)\n",
    "    \n",
    "def venn_diagram(t,r,angle):\n",
    "    for i in range(720 / angle):\n",
    "        rt(t,90)\n",
    "        arc(t,r,angle)\n",
    "        lt(t,270-angle)\n",
    "        arc(t,r,angle)\n",
    "\n",
    "venn_diagram(bob,10,180)\n",
    "wait_for_user()   "
   ]
  },
  {
   "cell_type": "markdown",
   "metadata": {},
   "source": [
    "## Reading Journal feedback\n",
    "\n",
    "Have any comments on this Reading Journal? Feel free to leave them below and we'll read them when you submit your journal entry. This could include suggestions to improve the exercises, topics you'd like to see covered in class next time, or other feedback.\n",
    "\n",
    "If you have Python questions or run into problems while completing the reading, you should post them to Piazza instead so you can get a quick response before your journal is submitted."
   ]
  },
  {
   "cell_type": "markdown",
   "metadata": {},
   "source": [
    " "
   ]
  }
 ],
 "metadata": {
  "kernelspec": {
   "display_name": "Python 2",
   "language": "python",
   "name": "python2"
  },
  "language_info": {
   "codemirror_mode": {
    "name": "ipython",
    "version": 2
   },
   "file_extension": ".py",
   "mimetype": "text/x-python",
   "name": "python",
   "nbconvert_exporter": "python",
   "pygments_lexer": "ipython2",
   "version": "2.7.6"
  }
 },
 "nbformat": 4,
 "nbformat_minor": 0
}
